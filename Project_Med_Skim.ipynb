{
  "nbformat": 4,
  "nbformat_minor": 0,
  "metadata": {
    "colab": {
      "name": "Project_Med_Skim.ipynb",
      "provenance": [],
      "authorship_tag": "ABX9TyOadlKkKb1K8/xeIUrXM2W6",
      "include_colab_link": true
    },
    "kernelspec": {
      "name": "python3",
      "display_name": "Python 3"
    },
    "language_info": {
      "name": "python"
    },
    "accelerator": "GPU"
  },
  "cells": [
    {
      "cell_type": "markdown",
      "metadata": {
        "id": "view-in-github",
        "colab_type": "text"
      },
      "source": [
        "<a href=\"https://colab.research.google.com/github/PranavR-2001/Project_Med_Skim/blob/main/Project_Med_Skim.ipynb\" target=\"_parent\"><img src=\"https://colab.research.google.com/assets/colab-badge.svg\" alt=\"Open In Colab\"/></a>"
      ]
    },
    {
      "cell_type": "markdown",
      "metadata": {
        "id": "p1JSbGolP8MJ"
      },
      "source": [
        "# MED-SKIM \n",
        "\n",
        "A deep learning NLP model that can skim any medical RCT abstract and return a well structured abstract.\n",
        "\n",
        "ie:, The model seperated each sentence of the abstract and divides them into classes such as OBJECTIVE, BACKGROUND, CONCLUSION etc, based on their actual purpose."
      ]
    },
    {
      "cell_type": "markdown",
      "metadata": {
        "id": "6P125peMQ6Xv"
      },
      "source": [
        "## Get the data\n",
        "\n",
        "The dataset used for this project is the **PubMed 200K RCT**. PubMed 200k RCT is new dataset based on PubMed for sequential sentence classification. The dataset consists of approximately **200,000** abstracts of randomized controlled trials, totaling **2.3 million sentences**. Each sentence of each abstract is labeled with their role in the abstract using one of the following classes: background, objective, method, result, or conclusion.\n",
        "\n",
        "To know more about pubmed visit: https://pubmed.ncbi.nlm.nih.gov/.\n",
        "\n",
        "The dataset is available at : https://github.com/Franck-Dernoncourt/pubmed-rct"
      ]
    },
    {
      "cell_type": "code",
      "metadata": {
        "colab": {
          "base_uri": "https://localhost:8080/"
        },
        "id": "EXpEQSTEzcO1",
        "outputId": "7cbfdd2c-5b32-4808-e94a-b508832f0826"
      },
      "source": [
        "# download dataset from github\n",
        "!git clone https://github.com/Franck-Dernoncourt/pubmed-rct\n",
        "!ls pubmed_rct"
      ],
      "execution_count": 1,
      "outputs": [
        {
          "output_type": "stream",
          "name": "stdout",
          "text": [
            "Cloning into 'pubmed-rct'...\n",
            "remote: Enumerating objects: 33, done.\u001b[K\n",
            "remote: Counting objects: 100% (3/3), done.\u001b[K\n",
            "remote: Compressing objects: 100% (3/3), done.\u001b[K\n",
            "remote: Total 33 (delta 0), reused 0 (delta 0), pack-reused 30\u001b[K\n",
            "Unpacking objects: 100% (33/33), done.\n",
            "ls: cannot access 'pubmed_rct': No such file or directory\n"
          ]
        }
      ]
    },
    {
      "cell_type": "markdown",
      "metadata": {
        "id": "vbet0JlZzm13"
      },
      "source": [
        "The folder consists of 4 types of dataset.\n",
        "\n",
        "* PubMed_200k_RCT - This contains 200,000 abstracts of randomized controlled trials\n",
        "* Pubmed_200k_RCT_numbers_replaced_with_at_sign - The same dataset but all numbers are replaced with @ sign.\n",
        "* Pubmed_20k_RCT - This contains a smaller version of the main dataset. 20000 samples only\n",
        "* Pubmed_20k_RCT_numbers_replaced_with_at_sign - The above dataset with numbers replaced with @ sign\n",
        "\n",
        "\n",
        "For our current project we will be using the **PubMed_20k_RCT_numbers_replaced_with_at_sign** dataset to save time and resourses.\n",
        "\n",
        "Future scope of this project would be to use the entire dataset."
      ]
    },
    {
      "cell_type": "code",
      "metadata": {
        "id": "zdSj5XoK0fZI"
      },
      "source": [
        "# set data directory\n",
        "data_dir = \"/content/pubmed-rct/PubMed_20k_RCT_numbers_replaced_with_at_sign/\""
      ],
      "execution_count": 2,
      "outputs": []
    },
    {
      "cell_type": "code",
      "metadata": {
        "colab": {
          "base_uri": "https://localhost:8080/"
        },
        "id": "8ri0Te9n0_Hs",
        "outputId": "3afad0b6-e511-4a14-aff8-10941c23fa44"
      },
      "source": [
        "# Check the files in the working directory\n",
        "import os\n",
        "filenames = [data_dir + filename for filename in os.listdir(data_dir)]\n",
        "filenames"
      ],
      "execution_count": 3,
      "outputs": [
        {
          "output_type": "execute_result",
          "data": {
            "text/plain": [
              "['/content/pubmed-rct/PubMed_20k_RCT_numbers_replaced_with_at_sign/test.txt',\n",
              " '/content/pubmed-rct/PubMed_20k_RCT_numbers_replaced_with_at_sign/train.txt',\n",
              " '/content/pubmed-rct/PubMed_20k_RCT_numbers_replaced_with_at_sign/dev.txt']"
            ]
          },
          "metadata": {},
          "execution_count": 3
        }
      ]
    },
    {
      "cell_type": "markdown",
      "metadata": {
        "id": "lFB5SvdN1LTG"
      },
      "source": [
        "This is how a single abstract from the dataset looks like :\n",
        "\n",
        "'###24290286\n",
        "\n",
        "**BACKGROUND**\tIgE sensitization .....\n",
        "\n",
        "**BACKGROUND**\tIt is not clear whether these patients would benefit from antifungal treatment .\n",
        "\n",
        "**OBJECTIVE**\tWe sought to determine whether a @-month course of voriconazole improved asthma-related ....\n",
        "\n",
        "**METHODS**\tAsthmatic patients who were IgE sensitized to A fumigatus with a history of at least @ severe exacerbations in the previous @ months were treated for @ months .....\n",
        "\n",
        "**METHODS**\tPrimary outcomes were improvement in quality of life at the end of the treatment period and a reduction in the number of severe exacerbations over the @ months .....\n",
        "\n",
        "**RESULTS**\tSixty-five patients were randomized .\n",
        "\n",
        "**RESULTS**\tFifty-nine patients started treatment ....\n",
        "\n",
        "**RESULTS**\tFifty-six patients took the full @ months of medication .\n",
        "\n",
        "RESULTS\tBetween the voriconazole and placebo groups , there were no significant differences in the number of ....\n",
        "\n",
        "CONCLUSIONS\tWe were unable to ....\n",
        "\n",
        "\n",
        "---\n",
        "\n",
        "**We have to make the dataset more structured and more python-friendly**\n",
        "\n",
        "\n",
        "\n"
      ]
    },
    {
      "cell_type": "markdown",
      "metadata": {
        "id": "60XM93Fy1o5t"
      },
      "source": [
        "## Preprocess data\n",
        "\n",
        "\n"
      ]
    },
    {
      "cell_type": "markdown",
      "metadata": {
        "id": "vXsN6uR_67Aq"
      },
      "source": [
        "### Create list of dictionaries"
      ]
    },
    {
      "cell_type": "code",
      "metadata": {
        "id": "qU6pEnw23XLT"
      },
      "source": [
        "# Create a function to read lines of document\n",
        "def get_lines(filename):\n",
        "  \"\"\"\n",
        "  Read the filename and returns the lines of text as a list\n",
        "  \"\"\"\n",
        "  with open(filename, 'r') as f:\n",
        "    return f.readlines()"
      ],
      "execution_count": 4,
      "outputs": []
    },
    {
      "cell_type": "code",
      "metadata": {
        "id": "lsBv6j0Q3xB9"
      },
      "source": [
        "# Create a preprocessing function to get the filename and create a list of dictionaries containing all data\n",
        "\n",
        "def preprocess_text(filename):\n",
        "  \"\"\"\n",
        "  Returns a list of dictionaries that contains text, line_number and total_line_number of each abstract\n",
        "  \"\"\"\n",
        "\n",
        "  input_lines = get_lines(filename)\n",
        "  abstract_lines = \"\" # create an empty abstract line holder\n",
        "  abstract_samples = [] # this list will later contain all the dictionaries\n",
        "\n",
        "  # loop through each line in input_lines\n",
        "  for line in input_lines:\n",
        "    if line.startswith(\"###\"): # checking to see if the line is a new abstract\n",
        "      abstract_id = line\n",
        "      abstract_lines = \"\"\n",
        "\n",
        "    elif line.isspace(): # check is line is new line ie, '\\n\\\n",
        "      abstract_line_split = abstract_lines.splitlines()\n",
        "\n",
        "      # iterate through each line in abstract_line_split and count them\n",
        "      for abstract_line_number, abstract_line in enumerate(abstract_line_split):\n",
        "        line_data = {}\n",
        "        target_text_split = abstract_line.split(\"\\t\")\n",
        "        line_data['target'] = target_text_split[0]\n",
        "        line_data['text'] = target_text_split[1].lower()\n",
        "        line_data['line_number'] = abstract_line_number\n",
        "        line_data['total_lines'] = len(abstract_line_split) - 1\n",
        "        abstract_samples.append(line_data)\n",
        "\n",
        "    else: # if above conditions arent fulfilled the lines contain a valid text of an abstract\n",
        "      abstract_lines += line\n",
        "\n",
        "  return abstract_samples"
      ],
      "execution_count": 5,
      "outputs": []
    },
    {
      "cell_type": "code",
      "metadata": {
        "colab": {
          "base_uri": "https://localhost:8080/"
        },
        "id": "LeJ8bfKz5-8d",
        "outputId": "16d07d87-fbe6-4198-f228-aced6c10ab7a"
      },
      "source": [
        "# Get the data from file and preprocess it\n",
        "train_samples = preprocess_text(data_dir + \"train.txt\")\n",
        "val_samples = preprocess_text(data_dir + \"dev.txt\")\n",
        "test_samples = preprocess_text(data_dir + \"test.txt\")\n",
        "print(len(train_samples)), print(len(val_samples)), print(len(test_samples))"
      ],
      "execution_count": 6,
      "outputs": [
        {
          "output_type": "stream",
          "name": "stdout",
          "text": [
            "180040\n",
            "30212\n",
            "30135\n"
          ]
        },
        {
          "output_type": "execute_result",
          "data": {
            "text/plain": [
              "(None, None, None)"
            ]
          },
          "metadata": {},
          "execution_count": 6
        }
      ]
    },
    {
      "cell_type": "code",
      "metadata": {
        "colab": {
          "base_uri": "https://localhost:8080/"
        },
        "id": "7ocmliYh6K-R",
        "outputId": "cfbb2905-76c2-4b09-9568-155ded7b376f"
      },
      "source": [
        "# See few samples from train_samples\n",
        "train_samples[:5]"
      ],
      "execution_count": 7,
      "outputs": [
        {
          "output_type": "execute_result",
          "data": {
            "text/plain": [
              "[{'line_number': 0,\n",
              "  'target': 'OBJECTIVE',\n",
              "  'text': 'to investigate the efficacy of @ weeks of daily low-dose oral prednisolone in improving pain , mobility , and systemic low-grade inflammation in the short term and whether the effect would be sustained at @ weeks in older adults with moderate to severe knee osteoarthritis ( oa ) .',\n",
              "  'total_lines': 11},\n",
              " {'line_number': 1,\n",
              "  'target': 'METHODS',\n",
              "  'text': 'a total of @ patients with primary knee oa were randomized @:@ ; @ received @ mg/day of prednisolone and @ received placebo for @ weeks .',\n",
              "  'total_lines': 11},\n",
              " {'line_number': 2,\n",
              "  'target': 'METHODS',\n",
              "  'text': 'outcome measures included pain reduction and improvement in function scores and systemic inflammation markers .',\n",
              "  'total_lines': 11},\n",
              " {'line_number': 3,\n",
              "  'target': 'METHODS',\n",
              "  'text': 'pain was assessed using the visual analog pain scale ( @-@ mm ) .',\n",
              "  'total_lines': 11},\n",
              " {'line_number': 4,\n",
              "  'target': 'METHODS',\n",
              "  'text': 'secondary outcome measures included the western ontario and mcmaster universities osteoarthritis index scores , patient global assessment ( pga ) of the severity of knee oa , and @-min walk distance ( @mwd ) .',\n",
              "  'total_lines': 11}]"
            ]
          },
          "metadata": {},
          "execution_count": 7
        }
      ]
    },
    {
      "cell_type": "markdown",
      "metadata": {
        "id": "Aovs_vnV61iw"
      },
      "source": [
        "### Create a dataframe"
      ]
    },
    {
      "cell_type": "code",
      "metadata": {
        "id": "uL0ZIQat7BvY"
      },
      "source": [
        "import pandas as pd"
      ],
      "execution_count": 8,
      "outputs": []
    },
    {
      "cell_type": "code",
      "metadata": {
        "colab": {
          "base_uri": "https://localhost:8080/",
          "height": 483
        },
        "id": "X2yjc2987Dxp",
        "outputId": "58d8b29a-9f64-41db-e7b0-a9366523d67b"
      },
      "source": [
        "# turn list of dictionaries into dataframe\n",
        "train_df = pd.DataFrame(train_samples)\n",
        "val_df = pd.DataFrame(val_samples)\n",
        "test_df = pd.DataFrame(test_samples)\n",
        "train_df[:14]"
      ],
      "execution_count": 9,
      "outputs": [
        {
          "output_type": "execute_result",
          "data": {
            "text/html": [
              "<div>\n",
              "<style scoped>\n",
              "    .dataframe tbody tr th:only-of-type {\n",
              "        vertical-align: middle;\n",
              "    }\n",
              "\n",
              "    .dataframe tbody tr th {\n",
              "        vertical-align: top;\n",
              "    }\n",
              "\n",
              "    .dataframe thead th {\n",
              "        text-align: right;\n",
              "    }\n",
              "</style>\n",
              "<table border=\"1\" class=\"dataframe\">\n",
              "  <thead>\n",
              "    <tr style=\"text-align: right;\">\n",
              "      <th></th>\n",
              "      <th>target</th>\n",
              "      <th>text</th>\n",
              "      <th>line_number</th>\n",
              "      <th>total_lines</th>\n",
              "    </tr>\n",
              "  </thead>\n",
              "  <tbody>\n",
              "    <tr>\n",
              "      <th>0</th>\n",
              "      <td>OBJECTIVE</td>\n",
              "      <td>to investigate the efficacy of @ weeks of dail...</td>\n",
              "      <td>0</td>\n",
              "      <td>11</td>\n",
              "    </tr>\n",
              "    <tr>\n",
              "      <th>1</th>\n",
              "      <td>METHODS</td>\n",
              "      <td>a total of @ patients with primary knee oa wer...</td>\n",
              "      <td>1</td>\n",
              "      <td>11</td>\n",
              "    </tr>\n",
              "    <tr>\n",
              "      <th>2</th>\n",
              "      <td>METHODS</td>\n",
              "      <td>outcome measures included pain reduction and i...</td>\n",
              "      <td>2</td>\n",
              "      <td>11</td>\n",
              "    </tr>\n",
              "    <tr>\n",
              "      <th>3</th>\n",
              "      <td>METHODS</td>\n",
              "      <td>pain was assessed using the visual analog pain...</td>\n",
              "      <td>3</td>\n",
              "      <td>11</td>\n",
              "    </tr>\n",
              "    <tr>\n",
              "      <th>4</th>\n",
              "      <td>METHODS</td>\n",
              "      <td>secondary outcome measures included the wester...</td>\n",
              "      <td>4</td>\n",
              "      <td>11</td>\n",
              "    </tr>\n",
              "    <tr>\n",
              "      <th>5</th>\n",
              "      <td>METHODS</td>\n",
              "      <td>serum levels of interleukin @ ( il-@ ) , il-@ ...</td>\n",
              "      <td>5</td>\n",
              "      <td>11</td>\n",
              "    </tr>\n",
              "    <tr>\n",
              "      <th>6</th>\n",
              "      <td>RESULTS</td>\n",
              "      <td>there was a clinically relevant reduction in t...</td>\n",
              "      <td>6</td>\n",
              "      <td>11</td>\n",
              "    </tr>\n",
              "    <tr>\n",
              "      <th>7</th>\n",
              "      <td>RESULTS</td>\n",
              "      <td>the mean difference between treatment arms ( @...</td>\n",
              "      <td>7</td>\n",
              "      <td>11</td>\n",
              "    </tr>\n",
              "    <tr>\n",
              "      <th>8</th>\n",
              "      <td>RESULTS</td>\n",
              "      <td>further , there was a clinically relevant redu...</td>\n",
              "      <td>8</td>\n",
              "      <td>11</td>\n",
              "    </tr>\n",
              "    <tr>\n",
              "      <th>9</th>\n",
              "      <td>RESULTS</td>\n",
              "      <td>these differences remained significant at @ we...</td>\n",
              "      <td>9</td>\n",
              "      <td>11</td>\n",
              "    </tr>\n",
              "    <tr>\n",
              "      <th>10</th>\n",
              "      <td>RESULTS</td>\n",
              "      <td>the outcome measures in rheumatology clinical ...</td>\n",
              "      <td>10</td>\n",
              "      <td>11</td>\n",
              "    </tr>\n",
              "    <tr>\n",
              "      <th>11</th>\n",
              "      <td>CONCLUSIONS</td>\n",
              "      <td>low-dose oral prednisolone had both a short-te...</td>\n",
              "      <td>11</td>\n",
              "      <td>11</td>\n",
              "    </tr>\n",
              "    <tr>\n",
              "      <th>12</th>\n",
              "      <td>BACKGROUND</td>\n",
              "      <td>emotional eating is associated with overeating...</td>\n",
              "      <td>0</td>\n",
              "      <td>10</td>\n",
              "    </tr>\n",
              "    <tr>\n",
              "      <th>13</th>\n",
              "      <td>BACKGROUND</td>\n",
              "      <td>yet , empirical evidence for individual ( trai...</td>\n",
              "      <td>1</td>\n",
              "      <td>10</td>\n",
              "    </tr>\n",
              "  </tbody>\n",
              "</table>\n",
              "</div>"
            ],
            "text/plain": [
              "         target  ... total_lines\n",
              "0     OBJECTIVE  ...          11\n",
              "1       METHODS  ...          11\n",
              "2       METHODS  ...          11\n",
              "3       METHODS  ...          11\n",
              "4       METHODS  ...          11\n",
              "5       METHODS  ...          11\n",
              "6       RESULTS  ...          11\n",
              "7       RESULTS  ...          11\n",
              "8       RESULTS  ...          11\n",
              "9       RESULTS  ...          11\n",
              "10      RESULTS  ...          11\n",
              "11  CONCLUSIONS  ...          11\n",
              "12   BACKGROUND  ...          10\n",
              "13   BACKGROUND  ...          10\n",
              "\n",
              "[14 rows x 4 columns]"
            ]
          },
          "metadata": {},
          "execution_count": 9
        }
      ]
    },
    {
      "cell_type": "code",
      "metadata": {
        "colab": {
          "base_uri": "https://localhost:8080/"
        },
        "id": "T8I0wocR7Q47",
        "outputId": "65cdf672-bd28-47f5-f49b-d6c160d38268"
      },
      "source": [
        "# See distribution of labels\n",
        "train_df.target.value_counts()"
      ],
      "execution_count": 10,
      "outputs": [
        {
          "output_type": "execute_result",
          "data": {
            "text/plain": [
              "METHODS        59353\n",
              "RESULTS        57953\n",
              "CONCLUSIONS    27168\n",
              "BACKGROUND     21727\n",
              "OBJECTIVE      13839\n",
              "Name: target, dtype: int64"
            ]
          },
          "metadata": {},
          "execution_count": 10
        }
      ]
    },
    {
      "cell_type": "code",
      "metadata": {
        "colab": {
          "base_uri": "https://localhost:8080/",
          "height": 267
        },
        "id": "KSa5NQ7x7aPo",
        "outputId": "06be0df3-a0fa-4369-b043-cfa93ce2d356"
      },
      "source": [
        "# check length of different lines\n",
        "train_df.total_lines.plot.hist();"
      ],
      "execution_count": 11,
      "outputs": [
        {
          "output_type": "display_data",
          "data": {
            "image/png": "[encoded data removed]",
            "text/plain": [
              "<Figure size 432x288 with 1 Axes>"
            ]
          },
          "metadata": {
            "needs_background": "light"
          }
        }
      ]
    },
    {
      "cell_type": "markdown",
      "metadata": {
        "id": "hLwoY39S7hkw"
      },
      "source": [
        "### Get the list of sentences"
      ]
    },
    {
      "cell_type": "code",
      "metadata": {
        "colab": {
          "base_uri": "https://localhost:8080/"
        },
        "id": "uvFAOugN7mvp",
        "outputId": "5afc13f8-bea3-4fa2-cc43-08ace3e31ab0"
      },
      "source": [
        "# convert abstract text lines to lists\n",
        "train_sentences = train_df['text'].tolist()\n",
        "val_sentences = val_df['text'].tolist()\n",
        "test_sentences = test_df['text'].tolist()\n",
        "len(train_sentences), len(val_sentences), len(test_sentences)"
      ],
      "execution_count": 12,
      "outputs": [
        {
          "output_type": "execute_result",
          "data": {
            "text/plain": [
              "(180040, 30212, 30135)"
            ]
          },
          "metadata": {},
          "execution_count": 12
        }
      ]
    },
    {
      "cell_type": "code",
      "metadata": {
        "colab": {
          "base_uri": "https://localhost:8080/"
        },
        "id": "ABd6a1xj74ba",
        "outputId": "79050b22-c34f-45f5-ae78-b660dc280319"
      },
      "source": [
        "# view lines from train_sentences\n",
        "train_sentences[:10]"
      ],
      "execution_count": 13,
      "outputs": [
        {
          "output_type": "execute_result",
          "data": {
            "text/plain": [
              "['to investigate the efficacy of @ weeks of daily low-dose oral prednisolone in improving pain , mobility , and systemic low-grade inflammation in the short term and whether the effect would be sustained at @ weeks in older adults with moderate to severe knee osteoarthritis ( oa ) .',\n",
              " 'a total of @ patients with primary knee oa were randomized @:@ ; @ received @ mg/day of prednisolone and @ received placebo for @ weeks .',\n",
              " 'outcome measures included pain reduction and improvement in function scores and systemic inflammation markers .',\n",
              " 'pain was assessed using the visual analog pain scale ( @-@ mm ) .',\n",
              " 'secondary outcome measures included the western ontario and mcmaster universities osteoarthritis index scores , patient global assessment ( pga ) of the severity of knee oa , and @-min walk distance ( @mwd ) .',\n",
              " 'serum levels of interleukin @ ( il-@ ) , il-@ , tumor necrosis factor ( tnf ) - , and high-sensitivity c-reactive protein ( hscrp ) were measured .',\n",
              " 'there was a clinically relevant reduction in the intervention group compared to the placebo group for knee pain , physical function , pga , and @mwd at @ weeks .',\n",
              " 'the mean difference between treatment arms ( @ % ci ) was @ ( @-@ @ ) , p < @ ; @ ( @-@ @ ) , p < @ ; @ ( @-@ @ ) , p < @ ; and @ ( @-@ @ ) , p < @ , respectively .',\n",
              " 'further , there was a clinically relevant reduction in the serum levels of il-@ , il-@ , tnf - , and hscrp at @ weeks in the intervention group when compared to the placebo group .',\n",
              " 'these differences remained significant at @ weeks .']"
            ]
          },
          "metadata": {},
          "execution_count": 13
        }
      ]
    },
    {
      "cell_type": "markdown",
      "metadata": {
        "id": "Ygo2g4Yl796g"
      },
      "source": [
        "### Make numerical labels"
      ]
    },
    {
      "cell_type": "code",
      "metadata": {
        "colab": {
          "base_uri": "https://localhost:8080/"
        },
        "id": "j-udBlUw8FC4",
        "outputId": "f14d551d-562e-4ebf-a58a-328f4f343d47"
      },
      "source": [
        "# One hot encode the labels\n",
        "from sklearn.preprocessing import OneHotEncoder\n",
        "\n",
        "one_hot_encoder = OneHotEncoder(sparse = False) # False because we dont want sparse matrix\n",
        "train_labels_one_hot = one_hot_encoder.fit_transform(train_df['target'].to_numpy().reshape(-1,1))\n",
        "val_labels_one_hot = one_hot_encoder.transform(val_df['target'].to_numpy().reshape(-1,1))\n",
        "test_labels_one_hot = one_hot_encoder.transform(test_df['target'].to_numpy().reshape(-1,1))\n",
        "\n",
        "train_labels_one_hot"
      ],
      "execution_count": 14,
      "outputs": [
        {
          "output_type": "execute_result",
          "data": {
            "text/plain": [
              "array([[0., 0., 0., 1., 0.],\n",
              "       [0., 0., 1., 0., 0.],\n",
              "       [0., 0., 1., 0., 0.],\n",
              "       ...,\n",
              "       [0., 0., 0., 0., 1.],\n",
              "       [0., 1., 0., 0., 0.],\n",
              "       [0., 1., 0., 0., 0.]])"
            ]
          },
          "metadata": {},
          "execution_count": 14
        }
      ]
    },
    {
      "cell_type": "code",
      "metadata": {
        "colab": {
          "base_uri": "https://localhost:8080/"
        },
        "id": "ZtQn4uPd9JuZ",
        "outputId": "b4dfdfb4-3004-4d6b-945f-4ff75454f6da"
      },
      "source": [
        "# Label encode the labels\n",
        "from sklearn.preprocessing import LabelEncoder\n",
        "\n",
        "label_encoder = LabelEncoder()\n",
        "train_labels_encoded = label_encoder.fit_transform(train_df['target'].to_numpy())\n",
        "val_labels_encoded = label_encoder.transform(val_df['target'].to_numpy())\n",
        "test_labels_encoded = label_encoder.transform(test_df['target'].to_numpy())\n",
        "\n",
        "train_labels_encoded"
      ],
      "execution_count": 15,
      "outputs": [
        {
          "output_type": "execute_result",
          "data": {
            "text/plain": [
              "array([3, 2, 2, ..., 4, 1, 1])"
            ]
          },
          "metadata": {},
          "execution_count": 15
        }
      ]
    },
    {
      "cell_type": "code",
      "metadata": {
        "colab": {
          "base_uri": "https://localhost:8080/"
        },
        "id": "_gnw0_ji-IJg",
        "outputId": "86338c12-8f4b-4cb5-e0b2-82c511ad0526"
      },
      "source": [
        "# get the class names and number of classes from label_encoder instance\n",
        "num_classes = len(label_encoder.classes_)\n",
        "class_names = label_encoder.classes_\n",
        "num_classes, class_names"
      ],
      "execution_count": 16,
      "outputs": [
        {
          "output_type": "execute_result",
          "data": {
            "text/plain": [
              "(5, array(['BACKGROUND', 'CONCLUSIONS', 'METHODS', 'OBJECTIVE', 'RESULTS'],\n",
              "       dtype=object))"
            ]
          },
          "metadata": {},
          "execution_count": 16
        }
      ]
    },
    {
      "cell_type": "markdown",
      "metadata": {
        "id": "tn3fOVH6-ymS"
      },
      "source": [
        "### Preparing data for deep learning model"
      ]
    },
    {
      "cell_type": "markdown",
      "metadata": {
        "id": "omYn9jCE_O31"
      },
      "source": [
        "In this project we are going to be making 2 model for comparison. The base architecture of the 2 models used for this project is based on the research done by **Franck Dernoncourt** and **Ji Young Lee**. The paper is available here: https://arxiv.org/pdf/1710.06071.pdf\n",
        "\n",
        "\n",
        "The model architecture we are going to keep as the base is found here : https://arxiv.org/pdf/1612.05251.pdf\n",
        "\n",
        "![image.png](data:image/png;base64,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)"
      ]
    },
    {
      "cell_type": "code",
      "metadata": {
        "id": "PKW2zyACAziE"
      },
      "source": [
        "# Import needed libraries\n",
        "import numpy as np\n",
        "import tensorflow as tf\n",
        "from tensorflow.keras import layers "
      ],
      "execution_count": 17,
      "outputs": []
    },
    {
      "cell_type": "code",
      "metadata": {
        "colab": {
          "base_uri": "https://localhost:8080/"
        },
        "id": "Qqf7h-zsBYyn",
        "outputId": "82843af8-4713-443e-a5bb-641831305aa2"
      },
      "source": [
        "# How long is each sentence on average\n",
        "sent_lens = [len(sentence.split()) for sentence in train_sentences]\n",
        "avg_sent_lens = np.round(np.mean(sent_lens))\n",
        "avg_sent_lens"
      ],
      "execution_count": 18,
      "outputs": [
        {
          "output_type": "execute_result",
          "data": {
            "text/plain": [
              "26.0"
            ]
          },
          "metadata": {},
          "execution_count": 18
        }
      ]
    },
    {
      "cell_type": "code",
      "metadata": {
        "colab": {
          "base_uri": "https://localhost:8080/",
          "height": 265
        },
        "id": "_GnOQNYiBlw4",
        "outputId": "42eaf520-5b6f-45ae-8aaa-52f596e784a4"
      },
      "source": [
        "# What the distribution looks like\n",
        "import matplotlib.pyplot as plt\n",
        "plt.hist(sent_lens, bins = 50);"
      ],
      "execution_count": 19,
      "outputs": [
        {
          "output_type": "display_data",
          "data": {
            "image/png": "[encoded data removed]",
            "text/plain": [
              "<Figure size 432x288 with 1 Axes>"
            ]
          },
          "metadata": {
            "needs_background": "light"
          }
        }
      ]
    },
    {
      "cell_type": "code",
      "metadata": {
        "colab": {
          "base_uri": "https://localhost:8080/"
        },
        "id": "_uN-r5WRBodx",
        "outputId": "278ffb53-8683-4213-ea29-314279f43db9"
      },
      "source": [
        "# How long of a sentence length covers 95% of data\n",
        "output_seq_length = int(np.percentile(sent_lens, 95))\n",
        "maximum_sent_length = max(sent_lens)\n",
        "output_seq_length, maximum_sent_length"
      ],
      "execution_count": 20,
      "outputs": [
        {
          "output_type": "execute_result",
          "data": {
            "text/plain": [
              "(55, 296)"
            ]
          },
          "metadata": {},
          "execution_count": 20
        }
      ]
    },
    {
      "cell_type": "markdown",
      "metadata": {
        "id": "Agi3Q-INCbJg"
      },
      "source": [
        "### Create a text Vectorizer\n",
        "\n",
        "Model_1 uses custom text vectorizer and custom token embeddings to train the model"
      ]
    },
    {
      "cell_type": "code",
      "metadata": {
        "id": "5GTN3Qv0CmGe"
      },
      "source": [
        "from tensorflow.keras.layers.experimental.preprocessing import TextVectorization"
      ],
      "execution_count": 21,
      "outputs": []
    },
    {
      "cell_type": "code",
      "metadata": {
        "id": "Mmh_CZ0HC3t3"
      },
      "source": [
        "max_tokens = 68000 # mentioned in the research paper\n",
        "\n",
        "# Create the text_vectorization layer\n",
        "text_vectorizer = TextVectorization(max_tokens = max_tokens,\n",
        "                                    standardize = 'lower_and_strip_punctuation',\n",
        "                                    split='whitespace',\n",
        "                                    ngrams = None,\n",
        "                                    output_mode ='int',\n",
        "                                    output_sequence_length = 55,\n",
        "                                    pad_to_max_tokens = True)"
      ],
      "execution_count": 22,
      "outputs": []
    },
    {
      "cell_type": "code",
      "metadata": {
        "id": "kltRjK0ZDYJy"
      },
      "source": [
        "# Adapt text vectorizer to train_data\n",
        "text_vectorizer.adapt(train_sentences)"
      ],
      "execution_count": 23,
      "outputs": []
    },
    {
      "cell_type": "code",
      "metadata": {
        "colab": {
          "base_uri": "https://localhost:8080/"
        },
        "id": "5gUPsa_IDpd-",
        "outputId": "328d1512-f3c6-49d4-a87d-cc1d51bc9212"
      },
      "source": [
        "# test the text vectorizer\n",
        "import random\n",
        "target_sentence = random.choice(train_sentences)\n",
        "print(f\"Text:\\n{target_sentence}\")\n",
        "print(f\"\\nLength of text: {len(target_sentence.split())}\")\n",
        "print(f\"\\nVectorized text: {text_vectorizer([target_sentence])}\")"
      ],
      "execution_count": 24,
      "outputs": [
        {
          "output_type": "stream",
          "name": "stdout",
          "text": [
            "Text:\n",
            "the trial was registered with the international standard randomised controlled trial register ( isrctn@ ) .\n",
            "\n",
            "Length of text: 16\n",
            "\n",
            "Vectorized text: [[   2   32   10  394    7    2  848  165  210  106   32 1872  811    0\n",
            "     0    0    0    0    0    0    0    0    0    0    0    0    0    0\n",
            "     0    0    0    0    0    0    0    0    0    0    0    0    0    0\n",
            "     0    0    0    0    0    0    0    0    0    0    0    0    0]]\n"
          ]
        }
      ]
    },
    {
      "cell_type": "code",
      "metadata": {
        "colab": {
          "base_uri": "https://localhost:8080/"
        },
        "id": "WiLN49dLD2QR",
        "outputId": "80a09866-4b53-44da-c767-75700d992483"
      },
      "source": [
        "# Vocabulary details\n",
        "rct_20k_vocab = text_vectorizer.get_vocabulary()\n",
        "print(f\"Number of words i vocab: {len(rct_20k_vocab)}\")\n",
        "print(f\"Most common words in vocab: {rct_20k_vocab[:5]}\")\n",
        "print(f\"Most rare words in vocab: {rct_20k_vocab[-5:]}\")"
      ],
      "execution_count": 25,
      "outputs": [
        {
          "output_type": "stream",
          "name": "stdout",
          "text": [
            "Number of words i vocab: 64841\n",
            "Most common words in vocab: ['', '[UNK]', 'the', 'and', 'of']\n",
            "Most rare words in vocab: ['aainduced', 'aaigroup', 'aachener', 'aachen', 'aaacp']\n"
          ]
        }
      ]
    },
    {
      "cell_type": "markdown",
      "metadata": {
        "id": "_yKmbgTKEERu"
      },
      "source": [
        "### Create custom embedding layer"
      ]
    },
    {
      "cell_type": "code",
      "metadata": {
        "id": "EhtPrgybEPld"
      },
      "source": [
        "token_embed = layers.Embedding(input_dim= len(rct_20k_vocab),\n",
        "                               output_dim = 128,\n",
        "                               name = 'token_embedding_CUSTOM')"
      ],
      "execution_count": 26,
      "outputs": []
    },
    {
      "cell_type": "code",
      "metadata": {
        "colab": {
          "base_uri": "https://localhost:8080/"
        },
        "id": "7oomr9JAFTxt",
        "outputId": "b44348af-38b1-43a5-86e6-51d70615d918"
      },
      "source": [
        "# Show example embedding\n",
        "print(f\"Sentence before vectorization:\\n{target_sentence}\\n\")\n",
        "vectorized_sentence = text_vectorizer([target_sentence])\n",
        "print(f\"Sentence after vectorization:\\n{vectorized_sentence}\\n\")\n",
        "print(f\"vectroized sentence shape: {vectorized_sentence.shape}\\n\")\n",
        "\n",
        "embedded_sentence = token_embed(vectorized_sentence)\n",
        "print(f\"Sentence after embedding:\\n {embedded_sentence}\\n\")\n",
        "print(f\"Embedded sentence shape: {embedded_sentence.shape}\")"
      ],
      "execution_count": 27,
      "outputs": [
        {
          "output_type": "stream",
          "name": "stdout",
          "text": [
            "Sentence before vectorization:\n",
            "the trial was registered with the international standard randomised controlled trial register ( isrctn@ ) .\n",
            "\n",
            "Sentence after vectorization:\n",
            "[[   2   32   10  394    7    2  848  165  210  106   32 1872  811    0\n",
            "     0    0    0    0    0    0    0    0    0    0    0    0    0    0\n",
            "     0    0    0    0    0    0    0    0    0    0    0    0    0    0\n",
            "     0    0    0    0    0    0    0    0    0    0    0    0    0]]\n",
            "\n",
            "vectroized sentence shape: (1, 55)\n",
            "\n",
            "Sentence after embedding:\n",
            " [[[-0.04257141  0.03795863 -0.02011898 ...  0.03873442  0.00258514\n",
            "   -0.01994344]\n",
            "  [ 0.04906524 -0.03918217  0.00100648 ... -0.03828988 -0.0464722\n",
            "   -0.00299879]\n",
            "  [ 0.01987287 -0.01407248  0.00579677 ...  0.00164809  0.02146472\n",
            "    0.0279763 ]\n",
            "  ...\n",
            "  [-0.01835711  0.00278425 -0.02173069 ...  0.02480702  0.0499421\n",
            "   -0.04382967]\n",
            "  [-0.01835711  0.00278425 -0.02173069 ...  0.02480702  0.0499421\n",
            "   -0.04382967]\n",
            "  [-0.01835711  0.00278425 -0.02173069 ...  0.02480702  0.0499421\n",
            "   -0.04382967]]]\n",
            "\n",
            "Embedded sentence shape: (1, 55, 128)\n"
          ]
        }
      ]
    },
    {
      "cell_type": "markdown",
      "metadata": {
        "id": "_dAWFe4gFZUd"
      },
      "source": [
        "### Create character level tokenizer"
      ]
    },
    {
      "cell_type": "code",
      "metadata": {
        "id": "YcsjJWQzFrh3"
      },
      "source": [
        "# make function to split sentences into characters\n",
        "def split_text(text):\n",
        "  return \" \".join(list(text))"
      ],
      "execution_count": 28,
      "outputs": []
    },
    {
      "cell_type": "code",
      "metadata": {
        "colab": {
          "base_uri": "https://localhost:8080/"
        },
        "id": "lI_iArTvGHxO",
        "outputId": "bfc7314e-3c6a-42f7-c035-be8d4a50097a"
      },
      "source": [
        "# split sequence level data into character level splits\n",
        "train_chars = [split_text(sentence) for sentence in train_sentences]\n",
        "val_chars = [split_text(sentence) for sentence in val_sentences]\n",
        "test_chars = [split_text(sentence) for sentence in test_sentences]\n",
        "\n",
        "train_chars[:10]"
      ],
      "execution_count": 29,
      "outputs": [
        {
          "output_type": "execute_result",
          "data": {
            "text/plain": [
              "['t o   i n v e s t i g a t e   t h e   e f f i c a c y   o f   @   w e e k s   o f   d a i l y   l o w - d o s e   o r a l   p r e d n i s o l o n e   i n   i m p r o v i n g   p a i n   ,   m o b i l i t y   ,   a n d   s y s t e m i c   l o w - g r a d e   i n f l a m m a t i o n   i n   t h e   s h o r t   t e r m   a n d   w h e t h e r   t h e   e f f e c t   w o u l d   b e   s u s t a i n e d   a t   @   w e e k s   i n   o l d e r   a d u l t s   w i t h   m o d e r a t e   t o   s e v e r e   k n e e   o s t e o a r t h r i t i s   (   o a   )   .',\n",
              " 'a   t o t a l   o f   @   p a t i e n t s   w i t h   p r i m a r y   k n e e   o a   w e r e   r a n d o m i z e d   @ : @   ;   @   r e c e i v e d   @   m g / d a y   o f   p r e d n i s o l o n e   a n d   @   r e c e i v e d   p l a c e b o   f o r   @   w e e k s   .',\n",
              " 'o u t c o m e   m e a s u r e s   i n c l u d e d   p a i n   r e d u c t i o n   a n d   i m p r o v e m e n t   i n   f u n c t i o n   s c o r e s   a n d   s y s t e m i c   i n f l a m m a t i o n   m a r k e r s   .',\n",
              " 'p a i n   w a s   a s s e s s e d   u s i n g   t h e   v i s u a l   a n a l o g   p a i n   s c a l e   (   @ - @   m m   )   .',\n",
              " 's e c o n d a r y   o u t c o m e   m e a s u r e s   i n c l u d e d   t h e   w e s t e r n   o n t a r i o   a n d   m c m a s t e r   u n i v e r s i t i e s   o s t e o a r t h r i t i s   i n d e x   s c o r e s   ,   p a t i e n t   g l o b a l   a s s e s s m e n t   (   p g a   )   o f   t h e   s e v e r i t y   o f   k n e e   o a   ,   a n d   @ - m i n   w a l k   d i s t a n c e   (   @ m w d   )   .',\n",
              " 's e r u m   l e v e l s   o f   i n t e r l e u k i n   @   (   i l - @   )   ,   i l - @   ,   t u m o r   n e c r o s i s   f a c t o r   (   t n f   )   -   ,   a n d   h i g h - s e n s i t i v i t y   c - r e a c t i v e   p r o t e i n   (   h s c r p   )   w e r e   m e a s u r e d   .',\n",
              " 't h e r e   w a s   a   c l i n i c a l l y   r e l e v a n t   r e d u c t i o n   i n   t h e   i n t e r v e n t i o n   g r o u p   c o m p a r e d   t o   t h e   p l a c e b o   g r o u p   f o r   k n e e   p a i n   ,   p h y s i c a l   f u n c t i o n   ,   p g a   ,   a n d   @ m w d   a t   @   w e e k s   .',\n",
              " 't h e   m e a n   d i f f e r e n c e   b e t w e e n   t r e a t m e n t   a r m s   (   @   %   c i   )   w a s   @   (   @ - @   @   )   ,   p   <   @   ;   @   (   @ - @   @   )   ,   p   <   @   ;   @   (   @ - @   @   )   ,   p   <   @   ;   a n d   @   (   @ - @   @   )   ,   p   <   @   ,   r e s p e c t i v e l y   .',\n",
              " 'f u r t h e r   ,   t h e r e   w a s   a   c l i n i c a l l y   r e l e v a n t   r e d u c t i o n   i n   t h e   s e r u m   l e v e l s   o f   i l - @   ,   i l - @   ,   t n f   -   ,   a n d   h s c r p   a t   @   w e e k s   i n   t h e   i n t e r v e n t i o n   g r o u p   w h e n   c o m p a r e d   t o   t h e   p l a c e b o   g r o u p   .',\n",
              " 't h e s e   d i f f e r e n c e s   r e m a i n e d   s i g n i f i c a n t   a t   @   w e e k s   .']"
            ]
          },
          "metadata": {},
          "execution_count": 29
        }
      ]
    },
    {
      "cell_type": "code",
      "metadata": {
        "colab": {
          "base_uri": "https://localhost:8080/"
        },
        "id": "F-W9BWzXGiWx",
        "outputId": "b8abe0f7-1fbd-4c33-c1e3-c56fb1f6f687"
      },
      "source": [
        "# average length on character level\n",
        "chars_lens = [len(sentence) for sentence in train_sentences]\n",
        "mean_char_len = np.round(np.mean(chars_lens))\n",
        "mean_char_len"
      ],
      "execution_count": 30,
      "outputs": [
        {
          "output_type": "execute_result",
          "data": {
            "text/plain": [
              "149.0"
            ]
          },
          "metadata": {},
          "execution_count": 30
        }
      ]
    },
    {
      "cell_type": "code",
      "metadata": {
        "colab": {
          "base_uri": "https://localhost:8080/",
          "height": 265
        },
        "id": "AOCO23Z4G1RN",
        "outputId": "afe02358-4bd4-436f-de4e-c3e6a461ed35"
      },
      "source": [
        "# Check distribution\n",
        "plt.hist(chars_lens, bins = 20);"
      ],
      "execution_count": 31,
      "outputs": [
        {
          "output_type": "display_data",
          "data": {
            "image/png": "[encoded data removed]",
            "text/plain": [
              "<Figure size 432x288 with 1 Axes>"
            ]
          },
          "metadata": {
            "needs_background": "light"
          }
        }
      ]
    },
    {
      "cell_type": "code",
      "metadata": {
        "colab": {
          "base_uri": "https://localhost:8080/"
        },
        "id": "-p1eBrqCG7ko",
        "outputId": "3889950a-a7bf-4ae0-d50e-974d6d301013"
      },
      "source": [
        "# find percentile\n",
        "output_seq_char_len = int(np.percentile(chars_lens, 95))\n",
        "output_seq_char_len"
      ],
      "execution_count": 32,
      "outputs": [
        {
          "output_type": "execute_result",
          "data": {
            "text/plain": [
              "290"
            ]
          },
          "metadata": {},
          "execution_count": 32
        }
      ]
    },
    {
      "cell_type": "code",
      "metadata": {
        "colab": {
          "base_uri": "https://localhost:8080/",
          "height": 35
        },
        "id": "RpEjgpRMHH18",
        "outputId": "ba0d6c91-2b00-4abd-cbd0-f9755127bcb0"
      },
      "source": [
        "# get all keyboard characters( this is done so we can find out length of vocabulary)\n",
        "import string\n",
        "alphabet = string.ascii_lowercase + string.digits + string.punctuation\n",
        "alphabet"
      ],
      "execution_count": 33,
      "outputs": [
        {
          "output_type": "execute_result",
          "data": {
            "application/vnd.google.colaboratory.intrinsic+json": {
              "type": "string"
            },
            "text/plain": [
              "'abcdefghijklmnopqrstuvwxyz0123456789!\"#$%&\\'()*+,-./:;<=>?@[\\\\]^_`{|}~'"
            ]
          },
          "metadata": {},
          "execution_count": 33
        }
      ]
    },
    {
      "cell_type": "code",
      "metadata": {
        "id": "m9RH7h7pHc82"
      },
      "source": [
        "NUM_CHAR_TOKENS = len(alphabet) + 2 # for space and OOV token (out of vocabulary)\n",
        "\n",
        "# Create the char_vectorizer\n",
        "char_vectorizer = TextVectorization(max_tokens=NUM_CHAR_TOKENS,\n",
        "                                    output_sequence_length = 290,\n",
        "                                    name = \"char_vectorizer\")"
      ],
      "execution_count": 34,
      "outputs": []
    },
    {
      "cell_type": "code",
      "metadata": {
        "id": "bjLsEJnuILJV"
      },
      "source": [
        "# adapt the vectorizer to train data\n",
        "char_vectorizer.adapt(train_chars)"
      ],
      "execution_count": 35,
      "outputs": []
    },
    {
      "cell_type": "code",
      "metadata": {
        "colab": {
          "base_uri": "https://localhost:8080/"
        },
        "id": "4WX4Id0MITFP",
        "outputId": "52eb208f-c373-4eab-d9a8-40808d5978b4"
      },
      "source": [
        "# check character voacab stats\n",
        "char_vocab = char_vectorizer.get_vocabulary()\n",
        "print(f\"Number of different characters: {len(char_vocab)}\")\n",
        "print(f\"5 most common character: {char_vocab[:5]}\")\n",
        "print(f\"5 least common character: {char_vocab[-5:]}\")"
      ],
      "execution_count": 36,
      "outputs": [
        {
          "output_type": "stream",
          "name": "stdout",
          "text": [
            "Number of different characters: 28\n",
            "5 most common character: ['', '[UNK]', 'e', 't', 'i']\n",
            "5 least common character: ['k', 'x', 'z', 'q', 'j']\n"
          ]
        }
      ]
    },
    {
      "cell_type": "code",
      "metadata": {
        "colab": {
          "base_uri": "https://localhost:8080/"
        },
        "id": "OW9oZ2rlIaqM",
        "outputId": "3ddd39c9-298b-4dc6-d2d7-26104a99c8eb"
      },
      "source": [
        "# Test the character vectorizer\n",
        "random_train_char = random.choice(train_chars)\n",
        "print(f\"Charified test: \\n{random_train_char}\\n\")\n",
        "print(f\"length of random train chars : {len(random_train_char.split())}\\n\")\n",
        "vectorized = char_vectorizer([random_train_char])\n",
        "print(f\"vectorized:\\n {vectorized}\\n\")\n",
        "print(f\"Shape of vectorzed: {vectorized.shape}\")"
      ],
      "execution_count": 37,
      "outputs": [
        {
          "output_type": "stream",
          "name": "stdout",
          "text": [
            "Charified test: \n",
            "t h e s e   w e r e   c o m p a r e d   t o   c a d a v e r   d o n o r s   w i t h   n o   i p   (   l t   ,   n   =   @   )   .\n",
            "\n",
            "length of random train chars : 49\n",
            "\n",
            "vectorized:\n",
            " [[ 3 13  2  9  2 20  2  8  2 11  7 15 14  5  8  2 10  3  7 11  5 10  5 21\n",
            "   2  8 10  7  6  7  8  9 20  4  3 13  6  7  4 14 12  3  6  0  0  0  0  0\n",
            "   0  0  0  0  0  0  0  0  0  0  0  0  0  0  0  0  0  0  0  0  0  0  0  0\n",
            "   0  0  0  0  0  0  0  0  0  0  0  0  0  0  0  0  0  0  0  0  0  0  0  0\n",
            "   0  0  0  0  0  0  0  0  0  0  0  0  0  0  0  0  0  0  0  0  0  0  0  0\n",
            "   0  0  0  0  0  0  0  0  0  0  0  0  0  0  0  0  0  0  0  0  0  0  0  0\n",
            "   0  0  0  0  0  0  0  0  0  0  0  0  0  0  0  0  0  0  0  0  0  0  0  0\n",
            "   0  0  0  0  0  0  0  0  0  0  0  0  0  0  0  0  0  0  0  0  0  0  0  0\n",
            "   0  0  0  0  0  0  0  0  0  0  0  0  0  0  0  0  0  0  0  0  0  0  0  0\n",
            "   0  0  0  0  0  0  0  0  0  0  0  0  0  0  0  0  0  0  0  0  0  0  0  0\n",
            "   0  0  0  0  0  0  0  0  0  0  0  0  0  0  0  0  0  0  0  0  0  0  0  0\n",
            "   0  0  0  0  0  0  0  0  0  0  0  0  0  0  0  0  0  0  0  0  0  0  0  0\n",
            "   0  0]]\n",
            "\n",
            "Shape of vectorzed: (1, 290)\n"
          ]
        }
      ]
    },
    {
      "cell_type": "markdown",
      "metadata": {
        "id": "VriofGpXIiFH"
      },
      "source": [
        "### Create character embedding layer"
      ]
    },
    {
      "cell_type": "code",
      "metadata": {
        "id": "GNvNzGbDIo7t"
      },
      "source": [
        "# create the layer\n",
        "char_embed = layers.Embedding(input_dim= len(char_vocab),\n",
        "                              output_dim = 25, # mentioned in the research paper\n",
        "                              name = \"char_embed\")"
      ],
      "execution_count": 38,
      "outputs": []
    },
    {
      "cell_type": "code",
      "metadata": {
        "colab": {
          "base_uri": "https://localhost:8080/"
        },
        "id": "HMSb1hWBI2vw",
        "outputId": "5375d2d0-eecb-47a5-e585-9c54201bc8ac"
      },
      "source": [
        "# Testing the embed layer\n",
        "print(f\"Charified test: \\n{random_train_char}\\n\")\n",
        "char_embed_example = char_embed(char_vectorizer([random_train_char]))\n",
        "print(f\"embed:\\n {char_embed_example}\\n\")\n",
        "print(f\"shape: {char_embed_example.shape}\")"
      ],
      "execution_count": 39,
      "outputs": [
        {
          "output_type": "stream",
          "name": "stdout",
          "text": [
            "Charified test: \n",
            "t h e s e   w e r e   c o m p a r e d   t o   c a d a v e r   d o n o r s   w i t h   n o   i p   (   l t   ,   n   =   @   )   .\n",
            "\n",
            "embed:\n",
            " [[[-0.01627201 -0.00055005 -0.0420028  ...  0.04071392  0.00828787\n",
            "   -0.01604682]\n",
            "  [ 0.03578582 -0.00518658 -0.04353266 ...  0.01435168  0.00180002\n",
            "   -0.01752341]\n",
            "  [ 0.00924612  0.03068552 -0.02838734 ... -0.01187122  0.01904759\n",
            "   -0.00177652]\n",
            "  ...\n",
            "  [-0.01576965  0.03439387  0.01858946 ... -0.01197008 -0.03994049\n",
            "    0.0330778 ]\n",
            "  [-0.01576965  0.03439387  0.01858946 ... -0.01197008 -0.03994049\n",
            "    0.0330778 ]\n",
            "  [-0.01576965  0.03439387  0.01858946 ... -0.01197008 -0.03994049\n",
            "    0.0330778 ]]]\n",
            "\n",
            "shape: (1, 290, 25)\n"
          ]
        }
      ]
    },
    {
      "cell_type": "markdown",
      "metadata": {
        "id": "h2sMyrcGI798"
      },
      "source": [
        "### Creating positional embeddings"
      ]
    },
    {
      "cell_type": "code",
      "metadata": {
        "colab": {
          "base_uri": "https://localhost:8080/"
        },
        "id": "dRDEDE8yJSbA",
        "outputId": "8d4f80e3-4eea-4936-ab53-26f807455e34"
      },
      "source": [
        "train_df['line_number'].value_counts()"
      ],
      "execution_count": 40,
      "outputs": [
        {
          "output_type": "execute_result",
          "data": {
            "text/plain": [
              "0     15000\n",
              "1     15000\n",
              "2     15000\n",
              "3     15000\n",
              "4     14992\n",
              "5     14949\n",
              "6     14758\n",
              "7     14279\n",
              "8     13346\n",
              "9     11981\n",
              "10    10041\n",
              "11     7892\n",
              "12     5853\n",
              "13     4152\n",
              "14     2835\n",
              "15     1861\n",
              "16     1188\n",
              "17      751\n",
              "18      462\n",
              "19      286\n",
              "20      162\n",
              "21      101\n",
              "22       66\n",
              "23       33\n",
              "24       22\n",
              "25       14\n",
              "26        7\n",
              "27        4\n",
              "28        3\n",
              "29        1\n",
              "30        1\n",
              "Name: line_number, dtype: int64"
            ]
          },
          "metadata": {},
          "execution_count": 40
        }
      ]
    },
    {
      "cell_type": "code",
      "metadata": {
        "colab": {
          "base_uri": "https://localhost:8080/",
          "height": 265
        },
        "id": "NmUB8cssJW4f",
        "outputId": "f63d97d8-a2e3-4c20-c34e-1298ec23eb39"
      },
      "source": [
        "# plot the distribution\n",
        "train_df['line_number'].plot.hist();"
      ],
      "execution_count": 41,
      "outputs": [
        {
          "output_type": "display_data",
          "data": {
            "image/png": "[encoded data removed]",
            "text/plain": [
              "<Figure size 432x288 with 1 Axes>"
            ]
          },
          "metadata": {
            "needs_background": "light"
          }
        }
      ]
    },
    {
      "cell_type": "code",
      "metadata": {
        "colab": {
          "base_uri": "https://localhost:8080/"
        },
        "id": "vZVCGf34JbE8",
        "outputId": "674abfdf-8d0d-4cfd-9345-9c92c14c8e3c"
      },
      "source": [
        "# Use tensorflow to create one-hot-encoding for 'line_number' column\n",
        "train_line_numbers_one_hot = tf.one_hot(train_df['line_number'].to_numpy(), depth = 15)\n",
        "val_line_numbers_one_hot = tf.one_hot(val_df['line_number'].to_numpy(), depth = 15)\n",
        "test_line_numbers_one_hot = tf.one_hot(test_df['line_number'].to_numpy(), depth = 15)\n",
        "\n",
        "train_line_numbers_one_hot[:10], train_line_numbers_one_hot.shape"
      ],
      "execution_count": 42,
      "outputs": [
        {
          "output_type": "execute_result",
          "data": {
            "text/plain": [
              "(<tf.Tensor: shape=(10, 15), dtype=float32, numpy=\n",
              " array([[1., 0., 0., 0., 0., 0., 0., 0., 0., 0., 0., 0., 0., 0., 0.],\n",
              "        [0., 1., 0., 0., 0., 0., 0., 0., 0., 0., 0., 0., 0., 0., 0.],\n",
              "        [0., 0., 1., 0., 0., 0., 0., 0., 0., 0., 0., 0., 0., 0., 0.],\n",
              "        [0., 0., 0., 1., 0., 0., 0., 0., 0., 0., 0., 0., 0., 0., 0.],\n",
              "        [0., 0., 0., 0., 1., 0., 0., 0., 0., 0., 0., 0., 0., 0., 0.],\n",
              "        [0., 0., 0., 0., 0., 1., 0., 0., 0., 0., 0., 0., 0., 0., 0.],\n",
              "        [0., 0., 0., 0., 0., 0., 1., 0., 0., 0., 0., 0., 0., 0., 0.],\n",
              "        [0., 0., 0., 0., 0., 0., 0., 1., 0., 0., 0., 0., 0., 0., 0.],\n",
              "        [0., 0., 0., 0., 0., 0., 0., 0., 1., 0., 0., 0., 0., 0., 0.],\n",
              "        [0., 0., 0., 0., 0., 0., 0., 0., 0., 1., 0., 0., 0., 0., 0.]],\n",
              "       dtype=float32)>, TensorShape([180040, 15]))"
            ]
          },
          "metadata": {},
          "execution_count": 42
        }
      ]
    },
    {
      "cell_type": "code",
      "metadata": {
        "colab": {
          "base_uri": "https://localhost:8080/",
          "height": 267
        },
        "id": "oCn07PdZJ-9j",
        "outputId": "cb036992-6f06-47c6-f134-04ff5476af68"
      },
      "source": [
        "# Use one_hot for the total_lines as well\n",
        "train_df.total_lines.plot.hist();"
      ],
      "execution_count": 43,
      "outputs": [
        {
          "output_type": "display_data",
          "data": {
            "image/png": "[encoded data removed]",
            "text/plain": [
              "<Figure size 432x288 with 1 Axes>"
            ]
          },
          "metadata": {
            "needs_background": "light"
          }
        }
      ]
    },
    {
      "cell_type": "code",
      "metadata": {
        "colab": {
          "base_uri": "https://localhost:8080/"
        },
        "id": "QM3VvyjxKPZ9",
        "outputId": "847c0e7d-b712-4a39-e618-2c2b7e63f297"
      },
      "source": [
        "# check percentile\n",
        "np.percentile(train_df.total_lines, 98)"
      ],
      "execution_count": 44,
      "outputs": [
        {
          "output_type": "execute_result",
          "data": {
            "text/plain": [
              "20.0"
            ]
          },
          "metadata": {},
          "execution_count": 44
        }
      ]
    },
    {
      "cell_type": "code",
      "metadata": {
        "colab": {
          "base_uri": "https://localhost:8080/"
        },
        "id": "hmLPHb9fKVr8",
        "outputId": "301eba1f-2c21-42dc-dc0f-cf9772301751"
      },
      "source": [
        "# One hot encode the total_lines \n",
        "train_total_lines_one_hot = tf.one_hot(train_df['total_lines'].to_numpy(), depth = 20)\n",
        "val_total_lines_one_hot = tf.one_hot(val_df['total_lines'].to_numpy(), depth = 20)\n",
        "test_total_lines_one_hot = tf.one_hot(test_df['total_lines'].to_numpy(), depth = 20)\n",
        "\n",
        "train_total_lines_one_hot[:5], train_total_lines_one_hot.shape"
      ],
      "execution_count": 45,
      "outputs": [
        {
          "output_type": "execute_result",
          "data": {
            "text/plain": [
              "(<tf.Tensor: shape=(5, 20), dtype=float32, numpy=\n",
              " array([[0., 0., 0., 0., 0., 0., 0., 0., 0., 0., 0., 1., 0., 0., 0., 0.,\n",
              "         0., 0., 0., 0.],\n",
              "        [0., 0., 0., 0., 0., 0., 0., 0., 0., 0., 0., 1., 0., 0., 0., 0.,\n",
              "         0., 0., 0., 0.],\n",
              "        [0., 0., 0., 0., 0., 0., 0., 0., 0., 0., 0., 1., 0., 0., 0., 0.,\n",
              "         0., 0., 0., 0.],\n",
              "        [0., 0., 0., 0., 0., 0., 0., 0., 0., 0., 0., 1., 0., 0., 0., 0.,\n",
              "         0., 0., 0., 0.],\n",
              "        [0., 0., 0., 0., 0., 0., 0., 0., 0., 0., 0., 1., 0., 0., 0., 0.,\n",
              "         0., 0., 0., 0.]], dtype=float32)>, TensorShape([180040, 20]))"
            ]
          },
          "metadata": {},
          "execution_count": 45
        }
      ]
    },
    {
      "cell_type": "markdown",
      "metadata": {
        "id": "absQVb5SKey0"
      },
      "source": [
        "## Preparing dataset for model using tf.data API"
      ]
    },
    {
      "cell_type": "code",
      "metadata": {
        "colab": {
          "base_uri": "https://localhost:8080/"
        },
        "id": "M1bF87g2Ky2U",
        "outputId": "51487f5a-2bb9-40d1-bfe1-584fbd32928a"
      },
      "source": [
        "# Train dataset\n",
        "train_char_token_pos_data = tf.data.Dataset.from_tensor_slices((train_line_numbers_one_hot,\n",
        "                                                                train_total_lines_one_hot,\n",
        "                                                                train_sentences,\n",
        "                                                                train_chars))\n",
        "train_char_token_pos_labels = tf.data.Dataset.from_tensor_slices((train_labels_one_hot))\n",
        "train_char_token_pos_dataset = tf.data.Dataset.zip((train_char_token_pos_data,\n",
        "                                                    train_char_token_pos_labels))\n",
        "# Batch the train data and prefetch it \n",
        "train_char_token_pos_dataset = train_char_token_pos_dataset.batch(32).prefetch(tf.data.AUTOTUNE)\n",
        "\n",
        "# Validation dataset\n",
        "val_char_token_pos_data = tf.data.Dataset.from_tensor_slices((val_line_numbers_one_hot,\n",
        "                                                                val_total_lines_one_hot,\n",
        "                                                                val_sentences,\n",
        "                                                                val_chars))\n",
        "val_char_token_pos_labels = tf.data.Dataset.from_tensor_slices((val_labels_one_hot))\n",
        "val_char_token_pos_dataset = tf.data.Dataset.zip((val_char_token_pos_data,\n",
        "                                                    val_char_token_pos_labels))\n",
        "\n",
        "# Batch the validation dataset and prefetch it\n",
        "val_char_token_pos_dataset = val_char_token_pos_dataset.batch(32).prefetch(tf.data.AUTOTUNE)\n",
        "\n",
        "# Test dataset\n",
        "test_char_token_pos_data = tf.data.Dataset.from_tensor_slices((test_line_numbers_one_hot,\n",
        "                                                                test_total_lines_one_hot,\n",
        "                                                                test_sentences,\n",
        "                                                                test_chars))\n",
        "test_char_token_pos_labels = tf.data.Dataset.from_tensor_slices((test_labels_one_hot))\n",
        "test_char_token_pos_dataset = tf.data.Dataset.zip((test_char_token_pos_data,\n",
        "                                                    test_char_token_pos_labels))\n",
        "\n",
        "# Batch the test dataset and prefetch it\n",
        "test_char_token_pos_dataset = test_char_token_pos_dataset.batch(32).prefetch(tf.data.AUTOTUNE)\n",
        "\n",
        "train_char_token_pos_dataset, val_char_token_pos_dataset, test_char_token_pos_dataset"
      ],
      "execution_count": 46,
      "outputs": [
        {
          "output_type": "execute_result",
          "data": {
            "text/plain": [
              "(<PrefetchDataset shapes: (((None, 15), (None, 20), (None,), (None,)), (None, 5)), types: ((tf.float32, tf.float32, tf.string, tf.string), tf.float64)>,\n",
              " <PrefetchDataset shapes: (((None, 15), (None, 20), (None,), (None,)), (None, 5)), types: ((tf.float32, tf.float32, tf.string, tf.string), tf.float64)>,\n",
              " <PrefetchDataset shapes: (((None, 15), (None, 20), (None,), (None,)), (None, 5)), types: ((tf.float32, tf.float32, tf.string, tf.string), tf.float64)>)"
            ]
          },
          "metadata": {},
          "execution_count": 46
        }
      ]
    },
    {
      "cell_type": "markdown",
      "metadata": {
        "id": "CW6NuAsoMkEv"
      },
      "source": [
        "## Creating the model"
      ]
    },
    {
      "cell_type": "code",
      "metadata": {
        "id": "vblWXpb-O9rl"
      },
      "source": [
        "# 1. Token Input\n",
        "token_inputs = layers.Input(shape = (1, ), dtype = tf.string, name = 'token_input')\n",
        "token_vectors = text_vectorizer(token_inputs)\n",
        "token_embeddings = token_embed(token_vectors)\n",
        "token_conv = layers.Conv1D(64, 10, padding = 'same', activation= 'relu')(token_embeddings)\n",
        "pool = layers.GlobalMaxPooling1D(name='maxpool_1d')(token_conv)\n",
        "token_outputs = layers.Dense(128, activation='relu')(pool)\n",
        "token_model = tf.keras.Model(token_inputs, token_outputs)\n",
        "\n",
        "# 2. Char Input\n",
        "## change here check\n",
        "char_inputs = layers.Input(shape = (1, ), dtype= tf.string, name='char_input')\n",
        "char_vectors = char_vectorizer(char_inputs)\n",
        "char_embeddings = char_embed(char_vectors)\n",
        "char_bi_lstm = layers.Bidirectional(layers.LSTM(24))(char_embeddings)\n",
        "char_model = tf.keras.Model(char_inputs, char_bi_lstm)\n",
        "\n",
        "# 3. Create model for 'line_number' feature\n",
        "line_number_inputs = layers.Input(shape = (15, ), dtype = tf.float32, name = 'line_number_inputs')\n",
        "x = layers.Dense(32, activation='relu')(line_number_inputs)\n",
        "line_number_model = tf.keras.Model(line_number_inputs, x)\n",
        "\n",
        "# 4. Create model for 'total_lines' feature\n",
        "total_lines_inputs = layers.Input(shape = (20, ), dtype = tf.float32, name = 'total_lines_inputs')\n",
        "y = layers.Dense(32, activation='relu')(total_lines_inputs)\n",
        "total_lines_model = tf.keras.Model(total_lines_inputs,y)\n",
        "\n",
        "# 5. Combine steps 1 and 2 into hybrid embeddings\n",
        "combined_embeddings = layers.Concatenate(name = \"char_token_hybrid_embeddings\")([token_model.output,\n",
        "                                                                                 char_model.output])\n",
        "z = layers.Dense(256, activation='relu')(combined_embeddings)\n",
        "z = layers.Dropout(0.5)(z)\n",
        "## change here check\n",
        "\n",
        "# 6. Combine 3, 4, 5 to form tribrid embedding\n",
        "tribrid_embeddings = layers.Concatenate(name = \"tribrid_embeddings\")([line_number_model.output,\n",
        "                                                                     total_lines_model.output,\n",
        "                                                                     z])\n",
        "\n",
        "# 7. Create next LSTM layer and feed forward layer\n",
        "reshape = layers.Reshape((32,10))(tribrid_embeddings)\n",
        "second_lstm_layer = layers.Bidirectional(layers.LSTM(100))(reshape)\n",
        "feed_1 = layers.Dense(32, activation='relu')(second_lstm_layer)\n",
        "dropout_layer = layers.Dropout(0.5)(feed_1)\n",
        "\n",
        "# 8. Create output layer\n",
        "output_layer = layers.Dense(5, activation='softmax', name = 'output_layer')(dropout_layer)\n",
        "\n",
        "# 9. Put together model\n",
        "model_1 = tf.keras.Model(inputs = [line_number_model.input,\n",
        "                                   total_lines_model.input,\n",
        "                                   token_model.input,\n",
        "                                   char_model.input],\n",
        "                         outputs = output_layer,\n",
        "                         name = 'tribrid_embedding_model')"
      ],
      "execution_count": 58,
      "outputs": []
    },
    {
      "cell_type": "code",
      "metadata": {
        "colab": {
          "base_uri": "https://localhost:8080/"
        },
        "id": "-DVDLY_xXmjf",
        "outputId": "02b7c72d-7b42-4a72-e0c1-9ac5de55b678"
      },
      "source": [
        "model_1.summary()"
      ],
      "execution_count": 59,
      "outputs": [
        {
          "output_type": "stream",
          "name": "stdout",
          "text": [
            "Model: \"tribrid_embedding_model\"\n",
            "__________________________________________________________________________________________________\n",
            "Layer (type)                    Output Shape         Param #     Connected to                     \n",
            "==================================================================================================\n",
            "token_input (InputLayer)        [(None, 1)]          0                                            \n",
            "__________________________________________________________________________________________________\n",
            "text_vectorization (TextVectori (None, 55)           0           token_input[0][0]                \n",
            "__________________________________________________________________________________________________\n",
            "token_embedding_CUSTOM (Embeddi (None, 55, 128)      8299648     text_vectorization[2][0]         \n",
            "__________________________________________________________________________________________________\n",
            "char_input (InputLayer)         [(None, 1)]          0                                            \n",
            "__________________________________________________________________________________________________\n",
            "conv1d_1 (Conv1D)               (None, 55, 64)       81984       token_embedding_CUSTOM[2][0]     \n",
            "__________________________________________________________________________________________________\n",
            "char_vectorizer (TextVectorizat (None, 290)          0           char_input[0][0]                 \n",
            "__________________________________________________________________________________________________\n",
            "maxpool_1d (GlobalMaxPooling1D) (None, 64)           0           conv1d_1[0][0]                   \n",
            "__________________________________________________________________________________________________\n",
            "char_embed (Embedding)          (None, 290, 25)      700         char_vectorizer[2][0]            \n",
            "__________________________________________________________________________________________________\n",
            "dense_10 (Dense)                (None, 128)          8320        maxpool_1d[0][0]                 \n",
            "__________________________________________________________________________________________________\n",
            "bidirectional_4 (Bidirectional) (None, 48)           9600        char_embed[2][0]                 \n",
            "__________________________________________________________________________________________________\n",
            "char_token_hybrid_embeddings (C (None, 176)          0           dense_10[0][0]                   \n",
            "                                                                 bidirectional_4[0][0]            \n",
            "__________________________________________________________________________________________________\n",
            "line_number_inputs (InputLayer) [(None, 15)]         0                                            \n",
            "__________________________________________________________________________________________________\n",
            "total_lines_inputs (InputLayer) [(None, 20)]         0                                            \n",
            "__________________________________________________________________________________________________\n",
            "dense_13 (Dense)                (None, 256)          45312       char_token_hybrid_embeddings[0][0\n",
            "__________________________________________________________________________________________________\n",
            "dense_11 (Dense)                (None, 32)           512         line_number_inputs[0][0]         \n",
            "__________________________________________________________________________________________________\n",
            "dense_12 (Dense)                (None, 32)           672         total_lines_inputs[0][0]         \n",
            "__________________________________________________________________________________________________\n",
            "dropout_4 (Dropout)             (None, 256)          0           dense_13[0][0]                   \n",
            "__________________________________________________________________________________________________\n",
            "tribrid_embeddings (Concatenate (None, 320)          0           dense_11[0][0]                   \n",
            "                                                                 dense_12[0][0]                   \n",
            "                                                                 dropout_4[0][0]                  \n",
            "__________________________________________________________________________________________________\n",
            "reshape_2 (Reshape)             (None, 32, 10)       0           tribrid_embeddings[0][0]         \n",
            "__________________________________________________________________________________________________\n",
            "bidirectional_5 (Bidirectional) (None, 200)          88800       reshape_2[0][0]                  \n",
            "__________________________________________________________________________________________________\n",
            "dense_14 (Dense)                (None, 32)           6432        bidirectional_5[0][0]            \n",
            "__________________________________________________________________________________________________\n",
            "dropout_5 (Dropout)             (None, 32)           0           dense_14[0][0]                   \n",
            "__________________________________________________________________________________________________\n",
            "output_layer (Dense)            (None, 5)            165         dropout_5[0][0]                  \n",
            "==================================================================================================\n",
            "Total params: 8,542,145\n",
            "Trainable params: 8,542,145\n",
            "Non-trainable params: 0\n",
            "__________________________________________________________________________________________________\n"
          ]
        }
      ]
    },
    {
      "cell_type": "code",
      "metadata": {
        "colab": {
          "base_uri": "https://localhost:8080/",
          "height": 1000
        },
        "id": "Zt5mQazLY5N2",
        "outputId": "12c6d28c-abf3-4775-ddf3-3668ca46303d"
      },
      "source": [
        "from keras.utils.vis_utils import plot_model\n",
        "plot_model(model_1, show_shapes=True)"
      ],
      "execution_count": 60,
      "outputs": [
        {
          "output_type": "execute_result",
          "data": {
            "image/png": "[encoded data removed]",
            "text/plain": [
              "<IPython.core.display.Image object>"
            ]
          },
          "metadata": {},
          "execution_count": 60
        }
      ]
    },
    {
      "cell_type": "code",
      "metadata": {
        "id": "SkR9cV90Zw2c"
      },
      "source": [
        "# compile model\n",
        "model_1.compile(loss = tf.keras.losses.CategoricalCrossentropy(label_smoothing=0.2),\n",
        "                optimizer = tf.keras.optimizers.Adam(),\n",
        "                metrics = ['accuracy'])"
      ],
      "execution_count": 61,
      "outputs": []
    },
    {
      "cell_type": "code",
      "metadata": {
        "colab": {
          "base_uri": "https://localhost:8080/"
        },
        "id": "DXoVkvk0Y-DG",
        "outputId": "2cf1d52b-8c3f-4840-8d4c-23d8f84ac636"
      },
      "source": [
        "# fit the model\n",
        "history_model_1 = model_1.fit(train_char_token_pos_dataset,\n",
        "                              steps_per_epoch = int(0.1*len(train_char_token_pos_dataset)),\n",
        "                              epochs = 10,\n",
        "                              validation_data = val_char_token_pos_dataset,\n",
        "                              validation_steps = int(0.1*len(val_char_token_pos_dataset)))"
      ],
      "execution_count": 62,
      "outputs": [
        {
          "output_type": "stream",
          "name": "stdout",
          "text": [
            "Epoch 1/10\n",
            "562/562 [==============================] - 103s 168ms/step - loss: 1.0989 - accuracy: 0.7238 - val_loss: 0.9272 - val_accuracy: 0.8195\n",
            "Epoch 2/10\n",
            "562/562 [==============================] - 92s 164ms/step - loss: 0.9688 - accuracy: 0.8314 - val_loss: 0.8934 - val_accuracy: 0.8514\n",
            "Epoch 3/10\n",
            "562/562 [==============================] - 93s 166ms/step - loss: 0.9381 - accuracy: 0.8549 - val_loss: 0.8812 - val_accuracy: 0.8487\n",
            "Epoch 4/10\n",
            "562/562 [==============================] - 93s 166ms/step - loss: 0.9316 - accuracy: 0.8638 - val_loss: 0.8760 - val_accuracy: 0.8574\n",
            "Epoch 5/10\n",
            "562/562 [==============================] - 93s 166ms/step - loss: 0.9247 - accuracy: 0.8670 - val_loss: 0.8609 - val_accuracy: 0.8720\n",
            "Epoch 6/10\n",
            "562/562 [==============================] - 93s 166ms/step - loss: 0.9227 - accuracy: 0.8682 - val_loss: 0.8563 - val_accuracy: 0.8720\n",
            "Epoch 7/10\n",
            "562/562 [==============================] - 93s 165ms/step - loss: 0.9075 - accuracy: 0.8748 - val_loss: 0.8606 - val_accuracy: 0.8667\n",
            "Epoch 8/10\n",
            "562/562 [==============================] - 93s 165ms/step - loss: 0.9049 - accuracy: 0.8787 - val_loss: 0.8549 - val_accuracy: 0.8743\n",
            "Epoch 9/10\n",
            "562/562 [==============================] - 93s 165ms/step - loss: 0.9040 - accuracy: 0.8796 - val_loss: 0.8607 - val_accuracy: 0.8713\n",
            "Epoch 10/10\n",
            "562/562 [==============================] - 93s 165ms/step - loss: 0.9026 - accuracy: 0.8793 - val_loss: 0.8545 - val_accuracy: 0.8783\n"
          ]
        }
      ]
    },
    {
      "cell_type": "code",
      "metadata": {
        "colab": {
          "base_uri": "https://localhost:8080/"
        },
        "id": "RDCNTSySZvBg",
        "outputId": "a91a23c9-3296-49bb-9206-f7deab7fe3a2"
      },
      "source": [
        "# make prediction\n",
        "model_1_pred_probs = model_1.predict(val_char_token_pos_dataset)\n",
        "model_1_preds = tf.argmax(model_1_pred_probs, axis = 1)\n",
        "model_1_preds[:10]"
      ],
      "execution_count": 63,
      "outputs": [
        {
          "output_type": "execute_result",
          "data": {
            "text/plain": [
              "<tf.Tensor: shape=(10,), dtype=int64, numpy=array([0, 0, 3, 2, 2, 4, 4, 4, 4, 1])>"
            ]
          },
          "metadata": {},
          "execution_count": 63
        }
      ]
    },
    {
      "cell_type": "code",
      "metadata": {
        "colab": {
          "base_uri": "https://localhost:8080/"
        },
        "id": "j5kWlbKheNHM",
        "outputId": "0f2aad15-6ecc-4985-f380-92ac297f6860"
      },
      "source": [
        "# evaluate model1\n",
        "model_1.evaluate(val_char_token_pos_dataset)"
      ],
      "execution_count": 64,
      "outputs": [
        {
          "output_type": "stream",
          "name": "stdout",
          "text": [
            "945/945 [==============================] - 68s 72ms/step - loss: 0.8508 - accuracy: 0.8771\n"
          ]
        },
        {
          "output_type": "execute_result",
          "data": {
            "text/plain": [
              "[0.8507654666900635, 0.8770686984062195]"
            ]
          },
          "metadata": {},
          "execution_count": 64
        }
      ]
    },
    {
      "cell_type": "markdown",
      "metadata": {
        "id": "RgTaOi13eafn"
      },
      "source": [
        "## Make custom predictions\n",
        "\n",
        "In order to make custom prediction on any medical RCT abstract, we first need to preprocess the new abstract in the same format that we used when training the model.\n",
        "\n",
        "* That is, we need to create a list of each sentences in the abstract.\n",
        "* We need a list in which each sentences are split into each characters\n",
        "* We also need the one hot encoded forms of the line number of each line in the abstract and the total number of lines in the abstract.\n",
        "\n",
        "A function is made that can take any abstract in the form of a string paragraph along with the model that is used for making the prediction. This function will do the needed text preprocessing and return the skimmed abstract that is ready to be read"
      ]
    },
    {
      "cell_type": "code",
      "metadata": {
        "colab": {
          "base_uri": "https://localhost:8080/"
        },
        "id": "KxAha2Z9esVu",
        "outputId": "ff460a4f-1162-4f7f-83ff-593706bb2d25"
      },
      "source": [
        "# Few example of custom medical abstracts\n",
        "trial = [{\"abstract\": \"This RCT examined the efficacy of a manualized social intervention for children with HFASDs. Participants were randomly assigned to treatment or wait-list conditions. Treatment included instruction and therapeutic activities targeting social skills, face-emotion recognition, interest expansion, and interpretation of non-literal language. A response-cost program was applied to reduce problem behaviors and foster skills acquisition. Significant treatment effects were found for five of seven primary outcome measures (parent ratings and direct child measures). Secondary measures based on staff ratings (treatment group only) corroborated gains reported by parents. High levels of parent, child and staff satisfaction were reported, along with high levels of treatment fidelity. Standardized effect size estimates were primarily in the medium and large ranges and favored the treatment group.\", \"source\": \"https://pubmed.ncbi.nlm.nih.gov/20232240/\", \"details\": \"RCT of a manualized social treatment for high-functioning autism spectrum disorders\"}, {\"abstract\": \"Postpartum depression (PPD) is the most prevalent mood disorder associated with childbirth. No single cause of PPD has been identified, however the increased risk of nutritional deficiencies incurred through the high nutritional requirements of pregnancy may play a role in the pathology of depressive symptoms. Three nutritional interventions have drawn particular interest as possible non-invasive and cost-effective prevention and/or treatment strategies for PPD; omega-3 (n-3) long chain polyunsaturated fatty acids (LCPUFA), vitamin D and overall diet. We searched for meta-analyses of randomised controlled trials (RCT's) of nutritional interventions during the perinatal period with PPD as an outcome, and checked for any trials published subsequently to the meta-analyses. Fish oil: Eleven RCT's of prenatal fish oil supplementation RCT's show null and positive effects on PPD symptoms. Vitamin D: no relevant RCT's were identified, however seven observational studies of maternal vitamin D levels with PPD outcomes showed inconsistent associations. Diet: Two Australian RCT's with dietary advice interventions in pregnancy had a positive and null result on PPD. With the exception of fish oil, few RCT's with nutritional interventions during pregnancy assess PPD. Further research is needed to determine whether nutritional intervention strategies during pregnancy can protect against symptoms of PPD. Given the prevalence of PPD and ease of administering PPD measures, we recommend future prenatal nutritional RCT's include PPD as an outcome.\", \"source\": \"https://pubmed.ncbi.nlm.nih.gov/28012571/\", \"details\": \"Formatting removed (can be used to compare model to actual example)\"}, {\"abstract\": \"Mental illness, including depression, anxiety and bipolar disorder, accounts for a significant proportion of global disability and poses a substantial social, economic and heath burden. Treatment is presently dominated by pharmacotherapy, such as antidepressants, and psychotherapy, such as cognitive behavioural therapy; however, such treatments avert less than half of the disease burden, suggesting that additional strategies are needed to prevent and treat mental disorders. There are now consistent mechanistic, observational and interventional data to suggest diet quality may be a modifiable risk factor for mental illness. This review provides an overview of the nutritional psychiatry field. It includes a discussion of the neurobiological mechanisms likely modulated by diet, the use of dietary and nutraceutical interventions in mental disorders, and recommendations for further research. Potential biological pathways related to mental disorders include inflammation, oxidative stress, the gut microbiome, epigenetic modifications and neuroplasticity. Consistent epidemiological evidence, particularly for depression, suggests an association between measures of diet quality and mental health, across multiple populations and age groups; these do not appear to be explained by other demographic, lifestyle factors or reverse causality. Our recently published intervention trial provides preliminary clinical evidence that dietary interventions in clinically diagnosed populations are feasible and can provide significant clinical benefit. Furthermore, nutraceuticals including n-3 fatty acids, folate, S-adenosylmethionine, N-acetyl cysteine and probiotics, among others, are promising avenues for future research. Continued research is now required to investigate the efficacy of intervention studies in large cohorts and within clinically relevant populations, particularly in patients with schizophrenia, bipolar and anxiety disorders.\", \"source\": \"https://pubmed.ncbi.nlm.nih.gov/28942748/\", \"details\": \"Effect of nutrition on mental health\"}, {\"abstract\": \"Hepatitis C virus (HCV) and alcoholic liver disease (ALD), either alone or in combination, count for more than two thirds of all liver diseases in the Western world. There is no safe level of drinking in HCV-infected patients and the most effective goal for these patients is total abstinence. Baclofen, a GABA(B) receptor agonist, represents a promising pharmacotherapy for alcohol dependence (AD). Previously, we performed a randomized clinical trial (RCT), which demonstrated the safety and efficacy of baclofen in patients affected by AD and cirrhosis. The goal of this post-hoc analysis was to explore baclofen's effect in a subgroup of alcohol-dependent HCV-infected cirrhotic patients. Any patient with HCV infection was selected for this analysis. Among the 84 subjects randomized in the main trial, 24 alcohol-dependent cirrhotic patients had a HCV infection; 12 received baclofen 10mg t.i.d. and 12 received placebo for 12-weeks. With respect to the placebo group (3/12, 25.0%), a significantly higher number of patients who achieved and maintained total alcohol abstinence was found in the baclofen group (10/12, 83.3%; p=0.0123). Furthermore, in the baclofen group, compared to placebo, there was a significantly higher increase in albumin values from baseline (p=0.0132) and a trend toward a significant reduction in INR levels from baseline (p=0.0716). In conclusion, baclofen was safe and significantly more effective than placebo in promoting alcohol abstinence, and improving some Liver Function Tests (LFTs) (i.e. albumin, INR) in alcohol-dependent HCV-infected cirrhotic patients. Baclofen may represent a clinically relevant alcohol pharmacotherapy for these patients.\", \"source\": \"https://pubmed.ncbi.nlm.nih.gov/22244707/\", \"details\": \"Baclofen promotes alcohol abstinence in alcohol dependent cirrhotic patients with hepatitis C virus (HCV) infection\"}]\n",
        "trial"
      ],
      "execution_count": 65,
      "outputs": [
        {
          "output_type": "execute_result",
          "data": {
            "text/plain": [
              "[{'abstract': 'This RCT examined the efficacy of a manualized social intervention for children with HFASDs. Participants were randomly assigned to treatment or wait-list conditions. Treatment included instruction and therapeutic activities targeting social skills, face-emotion recognition, interest expansion, and interpretation of non-literal language. A response-cost program was applied to reduce problem behaviors and foster skills acquisition. Significant treatment effects were found for five of seven primary outcome measures (parent ratings and direct child measures). Secondary measures based on staff ratings (treatment group only) corroborated gains reported by parents. High levels of parent, child and staff satisfaction were reported, along with high levels of treatment fidelity. Standardized effect size estimates were primarily in the medium and large ranges and favored the treatment group.',\n",
              "  'details': 'RCT of a manualized social treatment for high-functioning autism spectrum disorders',\n",
              "  'source': 'https://pubmed.ncbi.nlm.nih.gov/20232240/'},\n",
              " {'abstract': \"Postpartum depression (PPD) is the most prevalent mood disorder associated with childbirth. No single cause of PPD has been identified, however the increased risk of nutritional deficiencies incurred through the high nutritional requirements of pregnancy may play a role in the pathology of depressive symptoms. Three nutritional interventions have drawn particular interest as possible non-invasive and cost-effective prevention and/or treatment strategies for PPD; omega-3 (n-3) long chain polyunsaturated fatty acids (LCPUFA), vitamin D and overall diet. We searched for meta-analyses of randomised controlled trials (RCT's) of nutritional interventions during the perinatal period with PPD as an outcome, and checked for any trials published subsequently to the meta-analyses. Fish oil: Eleven RCT's of prenatal fish oil supplementation RCT's show null and positive effects on PPD symptoms. Vitamin D: no relevant RCT's were identified, however seven observational studies of maternal vitamin D levels with PPD outcomes showed inconsistent associations. Diet: Two Australian RCT's with dietary advice interventions in pregnancy had a positive and null result on PPD. With the exception of fish oil, few RCT's with nutritional interventions during pregnancy assess PPD. Further research is needed to determine whether nutritional intervention strategies during pregnancy can protect against symptoms of PPD. Given the prevalence of PPD and ease of administering PPD measures, we recommend future prenatal nutritional RCT's include PPD as an outcome.\",\n",
              "  'details': 'Formatting removed (can be used to compare model to actual example)',\n",
              "  'source': 'https://pubmed.ncbi.nlm.nih.gov/28012571/'},\n",
              " {'abstract': 'Mental illness, including depression, anxiety and bipolar disorder, accounts for a significant proportion of global disability and poses a substantial social, economic and heath burden. Treatment is presently dominated by pharmacotherapy, such as antidepressants, and psychotherapy, such as cognitive behavioural therapy; however, such treatments avert less than half of the disease burden, suggesting that additional strategies are needed to prevent and treat mental disorders. There are now consistent mechanistic, observational and interventional data to suggest diet quality may be a modifiable risk factor for mental illness. This review provides an overview of the nutritional psychiatry field. It includes a discussion of the neurobiological mechanisms likely modulated by diet, the use of dietary and nutraceutical interventions in mental disorders, and recommendations for further research. Potential biological pathways related to mental disorders include inflammation, oxidative stress, the gut microbiome, epigenetic modifications and neuroplasticity. Consistent epidemiological evidence, particularly for depression, suggests an association between measures of diet quality and mental health, across multiple populations and age groups; these do not appear to be explained by other demographic, lifestyle factors or reverse causality. Our recently published intervention trial provides preliminary clinical evidence that dietary interventions in clinically diagnosed populations are feasible and can provide significant clinical benefit. Furthermore, nutraceuticals including n-3 fatty acids, folate, S-adenosylmethionine, N-acetyl cysteine and probiotics, among others, are promising avenues for future research. Continued research is now required to investigate the efficacy of intervention studies in large cohorts and within clinically relevant populations, particularly in patients with schizophrenia, bipolar and anxiety disorders.',\n",
              "  'details': 'Effect of nutrition on mental health',\n",
              "  'source': 'https://pubmed.ncbi.nlm.nih.gov/28942748/'},\n",
              " {'abstract': \"Hepatitis C virus (HCV) and alcoholic liver disease (ALD), either alone or in combination, count for more than two thirds of all liver diseases in the Western world. There is no safe level of drinking in HCV-infected patients and the most effective goal for these patients is total abstinence. Baclofen, a GABA(B) receptor agonist, represents a promising pharmacotherapy for alcohol dependence (AD). Previously, we performed a randomized clinical trial (RCT), which demonstrated the safety and efficacy of baclofen in patients affected by AD and cirrhosis. The goal of this post-hoc analysis was to explore baclofen's effect in a subgroup of alcohol-dependent HCV-infected cirrhotic patients. Any patient with HCV infection was selected for this analysis. Among the 84 subjects randomized in the main trial, 24 alcohol-dependent cirrhotic patients had a HCV infection; 12 received baclofen 10mg t.i.d. and 12 received placebo for 12-weeks. With respect to the placebo group (3/12, 25.0%), a significantly higher number of patients who achieved and maintained total alcohol abstinence was found in the baclofen group (10/12, 83.3%; p=0.0123). Furthermore, in the baclofen group, compared to placebo, there was a significantly higher increase in albumin values from baseline (p=0.0132) and a trend toward a significant reduction in INR levels from baseline (p=0.0716). In conclusion, baclofen was safe and significantly more effective than placebo in promoting alcohol abstinence, and improving some Liver Function Tests (LFTs) (i.e. albumin, INR) in alcohol-dependent HCV-infected cirrhotic patients. Baclofen may represent a clinically relevant alcohol pharmacotherapy for these patients.\",\n",
              "  'details': 'Baclofen promotes alcohol abstinence in alcohol dependent cirrhotic patients with hepatitis C virus (HCV) infection',\n",
              "  'source': 'https://pubmed.ncbi.nlm.nih.gov/22244707/'}]"
            ]
          },
          "metadata": {},
          "execution_count": 65
        }
      ]
    },
    {
      "cell_type": "code",
      "metadata": {
        "colab": {
          "base_uri": "https://localhost:8080/",
          "height": 86
        },
        "id": "KqFi8FPGetfF",
        "outputId": "47f018e8-95e5-4c88-fcd9-e1f11e53ab40"
      },
      "source": [
        "# Extracting text from them\n",
        "abstract_1 = trial[0]['abstract']\n",
        "abstract_2 = trial[1]['abstract']\n",
        "abstract_3 = trial[2]['abstract']\n",
        "abstract_4 = trial[3]['abstract']\n",
        "abstract_1"
      ],
      "execution_count": 66,
      "outputs": [
        {
          "output_type": "execute_result",
          "data": {
            "application/vnd.google.colaboratory.intrinsic+json": {
              "type": "string"
            },
            "text/plain": [
              "'This RCT examined the efficacy of a manualized social intervention for children with HFASDs. Participants were randomly assigned to treatment or wait-list conditions. Treatment included instruction and therapeutic activities targeting social skills, face-emotion recognition, interest expansion, and interpretation of non-literal language. A response-cost program was applied to reduce problem behaviors and foster skills acquisition. Significant treatment effects were found for five of seven primary outcome measures (parent ratings and direct child measures). Secondary measures based on staff ratings (treatment group only) corroborated gains reported by parents. High levels of parent, child and staff satisfaction were reported, along with high levels of treatment fidelity. Standardized effect size estimates were primarily in the medium and large ranges and favored the treatment group.'"
            ]
          },
          "metadata": {},
          "execution_count": 66
        }
      ]
    },
    {
      "cell_type": "code",
      "metadata": {
        "id": "Txkwud9Be012"
      },
      "source": [
        "# function to prepare custom text\n",
        "def prepare_text(abstract):\n",
        "  custom_sentences = abstract.split(\". \")\n",
        "  char_sentences = [split_text(text) for text in custom_sentences]\n",
        "  list_abstract = []\n",
        "  for sentence_number, sentence in enumerate(custom_sentences):\n",
        "    final_list = {}\n",
        "    final_list['text'] = sentence.lower()\n",
        "    final_list['line_number'] = sentence_number\n",
        "    final_list['total_lines'] = len(custom_sentences) - 1\n",
        "    list_abstract.append(final_list)\n",
        "\n",
        "  return pd.DataFrame(list_abstract), char_sentences, custom_sentences"
      ],
      "execution_count": 67,
      "outputs": []
    },
    {
      "cell_type": "code",
      "metadata": {
        "id": "3JZ71dQAfKgN"
      },
      "source": [
        "# main function for making custom prediction\n",
        "def predict_data(abstract, model):\n",
        "  custom_df, custom_chars, custom_text = prepare_text(abstract)\n",
        "  custom_line_number_one_hot = tf.one_hot(custom_df['line_number'].to_numpy(), depth = 15)\n",
        "  custom_total_lines_one_hot = tf.one_hot(custom_df['total_lines'].to_numpy(), depth = 20)\n",
        "  custom_dataset_first = tf.data.Dataset.from_tensor_slices((custom_line_number_one_hot,\n",
        "                                                       custom_total_lines_one_hot,\n",
        "                                                       custom_text,\n",
        "                                                       custom_chars))\n",
        "\n",
        "  custom_dataset_blank = tf.data.Dataset.from_tensor_slices((tf.squeeze(np.zeros(shape = (1, len(custom_text)+1)))))\n",
        "  custom_dataset = tf.data.Dataset.zip((custom_dataset_first, custom_dataset_blank))\n",
        "  custom_dataset = custom_dataset.batch(1)\n",
        "  pred_probs = model_1.predict(custom_dataset)\n",
        "  preds = tf.argmax(pred_probs, axis = 1)\n",
        "  pred_class = [class_names[value] for value in preds]\n",
        "\n",
        "  final_skim = []\n",
        "\n",
        "  for i in range(len(custom_text)):\n",
        "    final_dict = {}\n",
        "    final_dict['Heading'] = pred_class[i]\n",
        "    final_dict['Sentence in abstract'] = custom_text[i]\n",
        "    final_skim.append(final_dict)\n",
        "    print(f\"{i+1}. {pred_class[i]} :- {custom_text[i]}\\n----\\n\")\n"
      ],
      "execution_count": 68,
      "outputs": []
    },
    {
      "cell_type": "markdown",
      "metadata": {
        "id": "YrjlpIkptKBe"
      },
      "source": [
        "Run the function names `predict_data` to make a prediction. It takes 2 arguments. First is the abstract given in the form of normal string and second the model name, with which you want to make the prediction."
      ]
    },
    {
      "cell_type": "code",
      "metadata": {
        "colab": {
          "base_uri": "https://localhost:8080/"
        },
        "id": "A0_fSJX3mPoe",
        "outputId": "e089a064-5aa8-4711-af74-b500d56d3387"
      },
      "source": [
        "predict_data(abstract_1, model_1)"
      ],
      "execution_count": 71,
      "outputs": [
        {
          "output_type": "stream",
          "name": "stdout",
          "text": [
            "1. OBJECTIVE :- This RCT examined the efficacy of a manualized social intervention for children with HFASDs\n",
            "----\n",
            "\n",
            "2. METHODS :- Participants were randomly assigned to treatment or wait-list conditions\n",
            "----\n",
            "\n",
            "3. METHODS :- Treatment included instruction and therapeutic activities targeting social skills, face-emotion recognition, interest expansion, and interpretation of non-literal language\n",
            "----\n",
            "\n",
            "4. METHODS :- A response-cost program was applied to reduce problem behaviors and foster skills acquisition\n",
            "----\n",
            "\n",
            "5. RESULTS :- Significant treatment effects were found for five of seven primary outcome measures (parent ratings and direct child measures)\n",
            "----\n",
            "\n",
            "6. RESULTS :- Secondary measures based on staff ratings (treatment group only) corroborated gains reported by parents\n",
            "----\n",
            "\n",
            "7. RESULTS :- High levels of parent, child and staff satisfaction were reported, along with high levels of treatment fidelity\n",
            "----\n",
            "\n",
            "8. RESULTS :- Standardized effect size estimates were primarily in the medium and large ranges and favored the treatment group.\n",
            "----\n",
            "\n"
          ]
        }
      ]
    },
    {
      "cell_type": "code",
      "metadata": {
        "id": "BP7DU5_RqT1N"
      },
      "source": [
        ""
      ],
      "execution_count": null,
      "outputs": []
    }
  ]
}